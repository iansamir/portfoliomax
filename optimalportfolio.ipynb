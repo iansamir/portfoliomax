{
  "nbformat": 4,
  "nbformat_minor": 0,
  "metadata": {
    "colab": {
      "name": "optimalportfolio.ipynb",
      "provenance": [],
      "collapsed_sections": []
    },
    "kernelspec": {
      "name": "python3",
      "display_name": "Python 3"
    }
  },
  "cells": [
    {
      "cell_type": "markdown",
      "metadata": {
        "id": "izVgSRCDEqv0",
        "colab_type": "text"
      },
      "source": [
        "We'll need financial data from the quandl package. I went on the website and grabbed an API key \n",
        "with a new account. "
      ]
    },
    {
      "cell_type": "code",
      "metadata": {
        "id": "jvW1TIwQDO51",
        "colab_type": "code",
        "colab": {}
      },
      "source": [
        "!pip install quandl\n",
        "import quandl"
      ],
      "execution_count": null,
      "outputs": []
    },
    {
      "cell_type": "code",
      "metadata": {
        "id": "ansGWdh1bnrI",
        "colab_type": "code",
        "colab": {}
      },
      "source": [
        "api_key = 'AK6Hx-TEBPSS2q4xafkY'"
      ],
      "execution_count": 9,
      "outputs": []
    },
    {
      "cell_type": "markdown",
      "metadata": {
        "id": "d0erQggOq2ih",
        "colab_type": "text"
      },
      "source": [
        "Let's grab some stocks for our portfolio. Quandl.get_table can grab a bunch of stocks in a table. "
      ]
    },
    {
      "cell_type": "code",
      "metadata": {
        "id": "BaEogMkXqgcM",
        "colab_type": "code",
        "colab": {
          "base_uri": "https://localhost:8080/",
          "height": 235
        },
        "outputId": "da07a8ae-39c6-45a0-bac8-d68d1631a1c2"
      },
      "source": [
        "quandl.ApiConfig.api_key = api_key\n",
        "stocks = ['TSLA', 'AAPL', 'GOOG', 'FB', 'GOLD']\n",
        "table = quandl.get_table('WIKI/PRICES', ticker = stocks, \n",
        "                         qopts = {'columns': ['date', 'ticker', 'adj_close']},\n",
        "                         date = {'gte': '2016-1-1', 'lte':'2016-12-31'}, paginate = True)\n",
        "frame = table.set_index('date')\n",
        "df = frame.pivot(columns = 'ticker')\n",
        "\n",
        "df.columns = [col[1] for col in df.columns]\n",
        "df.head()"
      ],
      "execution_count": 27,
      "outputs": [
        {
          "output_type": "execute_result",
          "data": {
            "text/html": [
              "<div>\n",
              "<style scoped>\n",
              "    .dataframe tbody tr th:only-of-type {\n",
              "        vertical-align: middle;\n",
              "    }\n",
              "\n",
              "    .dataframe tbody tr th {\n",
              "        vertical-align: top;\n",
              "    }\n",
              "\n",
              "    .dataframe thead th {\n",
              "        text-align: right;\n",
              "    }\n",
              "</style>\n",
              "<table border=\"1\" class=\"dataframe\">\n",
              "  <thead>\n",
              "    <tr style=\"text-align: right;\">\n",
              "      <th></th>\n",
              "      <th>AAPL</th>\n",
              "      <th>FB</th>\n",
              "      <th>GOLD</th>\n",
              "      <th>GOOG</th>\n",
              "      <th>TSLA</th>\n",
              "    </tr>\n",
              "    <tr>\n",
              "      <th>date</th>\n",
              "      <th></th>\n",
              "      <th></th>\n",
              "      <th></th>\n",
              "      <th></th>\n",
              "      <th></th>\n",
              "    </tr>\n",
              "  </thead>\n",
              "  <tbody>\n",
              "    <tr>\n",
              "      <th>2016-01-04</th>\n",
              "      <td>101.783763</td>\n",
              "      <td>102.22</td>\n",
              "      <td>61.344164</td>\n",
              "      <td>741.84</td>\n",
              "      <td>223.41</td>\n",
              "    </tr>\n",
              "    <tr>\n",
              "      <th>2016-01-05</th>\n",
              "      <td>99.233131</td>\n",
              "      <td>102.73</td>\n",
              "      <td>61.442346</td>\n",
              "      <td>742.58</td>\n",
              "      <td>223.43</td>\n",
              "    </tr>\n",
              "    <tr>\n",
              "      <th>2016-01-06</th>\n",
              "      <td>97.291172</td>\n",
              "      <td>102.97</td>\n",
              "      <td>61.933257</td>\n",
              "      <td>743.62</td>\n",
              "      <td>219.04</td>\n",
              "    </tr>\n",
              "    <tr>\n",
              "      <th>2016-01-07</th>\n",
              "      <td>93.185040</td>\n",
              "      <td>97.92</td>\n",
              "      <td>64.544900</td>\n",
              "      <td>726.39</td>\n",
              "      <td>215.65</td>\n",
              "    </tr>\n",
              "    <tr>\n",
              "      <th>2016-01-08</th>\n",
              "      <td>93.677776</td>\n",
              "      <td>97.33</td>\n",
              "      <td>62.620531</td>\n",
              "      <td>714.47</td>\n",
              "      <td>211.00</td>\n",
              "    </tr>\n",
              "  </tbody>\n",
              "</table>\n",
              "</div>"
            ],
            "text/plain": [
              "                  AAPL      FB       GOLD    GOOG    TSLA\n",
              "date                                                     \n",
              "2016-01-04  101.783763  102.22  61.344164  741.84  223.41\n",
              "2016-01-05   99.233131  102.73  61.442346  742.58  223.43\n",
              "2016-01-06   97.291172  102.97  61.933257  743.62  219.04\n",
              "2016-01-07   93.185040   97.92  64.544900  726.39  215.65\n",
              "2016-01-08   93.677776   97.33  62.620531  714.47  211.00"
            ]
          },
          "metadata": {
            "tags": []
          },
          "execution_count": 27
        }
      ]
    },
    {
      "cell_type": "markdown",
      "metadata": {
        "id": "RsrQbKCHueMX",
        "colab_type": "text"
      },
      "source": [
        "From the summary statistics of the data frame, we can see there were 252 days that the stocks were traded, and the means and standard deviations of each stock are given. Apple was the least volatile while Google was the most. "
      ]
    },
    {
      "cell_type": "code",
      "metadata": {
        "id": "xrmY7RAguFVE",
        "colab_type": "code",
        "colab": {
          "base_uri": "https://localhost:8080/",
          "height": 297
        },
        "outputId": "38c44579-77d0-4d44-f52d-6327e71785cf"
      },
      "source": [
        "a = df.describe()\n",
        "a"
      ],
      "execution_count": 48,
      "outputs": [
        {
          "output_type": "execute_result",
          "data": {
            "text/html": [
              "<div>\n",
              "<style scoped>\n",
              "    .dataframe tbody tr th:only-of-type {\n",
              "        vertical-align: middle;\n",
              "    }\n",
              "\n",
              "    .dataframe tbody tr th {\n",
              "        vertical-align: top;\n",
              "    }\n",
              "\n",
              "    .dataframe thead th {\n",
              "        text-align: right;\n",
              "    }\n",
              "</style>\n",
              "<table border=\"1\" class=\"dataframe\">\n",
              "  <thead>\n",
              "    <tr style=\"text-align: right;\">\n",
              "      <th></th>\n",
              "      <th>AAPL</th>\n",
              "      <th>FB</th>\n",
              "      <th>GOLD</th>\n",
              "      <th>GOOG</th>\n",
              "      <th>TSLA</th>\n",
              "    </tr>\n",
              "  </thead>\n",
              "  <tbody>\n",
              "    <tr>\n",
              "      <th>count</th>\n",
              "      <td>252.000000</td>\n",
              "      <td>252.000000</td>\n",
              "      <td>252.000000</td>\n",
              "      <td>252.000000</td>\n",
              "      <td>252.000000</td>\n",
              "    </tr>\n",
              "    <tr>\n",
              "      <th>mean</th>\n",
              "      <td>102.314697</td>\n",
              "      <td>117.035079</td>\n",
              "      <td>89.310616</td>\n",
              "      <td>743.485119</td>\n",
              "      <td>209.767262</td>\n",
              "    </tr>\n",
              "    <tr>\n",
              "      <th>std</th>\n",
              "      <td>7.933360</td>\n",
              "      <td>8.900121</td>\n",
              "      <td>14.530867</td>\n",
              "      <td>34.458755</td>\n",
              "      <td>21.369476</td>\n",
              "    </tr>\n",
              "    <tr>\n",
              "      <th>min</th>\n",
              "      <td>88.288161</td>\n",
              "      <td>94.160000</td>\n",
              "      <td>59.773251</td>\n",
              "      <td>668.260000</td>\n",
              "      <td>143.670000</td>\n",
              "    </tr>\n",
              "    <tr>\n",
              "      <th>25%</th>\n",
              "      <td>94.623427</td>\n",
              "      <td>112.202500</td>\n",
              "      <td>82.848637</td>\n",
              "      <td>713.242500</td>\n",
              "      <td>196.640000</td>\n",
              "    </tr>\n",
              "    <tr>\n",
              "      <th>50%</th>\n",
              "      <td>102.909621</td>\n",
              "      <td>117.765000</td>\n",
              "      <td>89.137381</td>\n",
              "      <td>742.845000</td>\n",
              "      <td>208.705000</td>\n",
              "    </tr>\n",
              "    <tr>\n",
              "      <th>75%</th>\n",
              "      <td>108.927776</td>\n",
              "      <td>123.902500</td>\n",
              "      <td>96.966478</td>\n",
              "      <td>772.640000</td>\n",
              "      <td>223.282500</td>\n",
              "    </tr>\n",
              "    <tr>\n",
              "      <th>max</th>\n",
              "      <td>116.186451</td>\n",
              "      <td>133.280000</td>\n",
              "      <td>123.998838</td>\n",
              "      <td>813.110000</td>\n",
              "      <td>265.420000</td>\n",
              "    </tr>\n",
              "  </tbody>\n",
              "</table>\n",
              "</div>"
            ],
            "text/plain": [
              "             AAPL          FB        GOLD        GOOG        TSLA\n",
              "count  252.000000  252.000000  252.000000  252.000000  252.000000\n",
              "mean   102.314697  117.035079   89.310616  743.485119  209.767262\n",
              "std      7.933360    8.900121   14.530867   34.458755   21.369476\n",
              "min     88.288161   94.160000   59.773251  668.260000  143.670000\n",
              "25%     94.623427  112.202500   82.848637  713.242500  196.640000\n",
              "50%    102.909621  117.765000   89.137381  742.845000  208.705000\n",
              "75%    108.927776  123.902500   96.966478  772.640000  223.282500\n",
              "max    116.186451  133.280000  123.998838  813.110000  265.420000"
            ]
          },
          "metadata": {
            "tags": []
          },
          "execution_count": 48
        }
      ]
    },
    {
      "cell_type": "markdown",
      "metadata": {
        "id": "55AsslmKw7z6",
        "colab_type": "text"
      },
      "source": [
        "We'll need to import some mathematical modules to calculate the volatilities and annualized returns of each stock. "
      ]
    },
    {
      "cell_type": "code",
      "metadata": {
        "id": "dJFUrth_xAL1",
        "colab_type": "code",
        "colab": {}
      },
      "source": [
        "import numpy as np"
      ],
      "execution_count": 43,
      "outputs": []
    },
    {
      "cell_type": "code",
      "metadata": {
        "id": "zisu4JR7v1ci",
        "colab_type": "code",
        "colab": {
          "base_uri": "https://localhost:8080/",
          "height": 102
        },
        "outputId": "acb4bd25-6b31-44c6-c018-351976bb2023"
      },
      "source": [
        "returns = {}\n",
        "\n",
        "for col in df:\n",
        "  returns[col] = (-df[col][0] + df[col][251])/(df[col][0])\n",
        "  returns[col] = np.power(1 + returns[col], 365/252) - 1\n",
        "\n",
        "returns\n",
        "\n",
        "stdev = {}\n",
        "\n",
        "for col in a:\n",
        "  stdev[col] = a[col][2] * np.sqrt(365/252)\n",
        "\n",
        "stdev"
      ],
      "execution_count": 53,
      "outputs": [
        {
          "output_type": "execute_result",
          "data": {
            "text/plain": [
              "{'AAPL': 9.547800625213883,\n",
              " 'FB': 10.71129703667769,\n",
              " 'GOLD': 17.487901739209875,\n",
              " 'GOOG': 41.471118289004295,\n",
              " 'TSLA': 25.718167873321903}"
            ]
          },
          "metadata": {
            "tags": []
          },
          "execution_count": 53
        }
      ]
    },
    {
      "cell_type": "markdown",
      "metadata": {
        "id": "ZVJo1YeyrQw2",
        "colab_type": "text"
      },
      "source": [
        "From here, we can put these expected values and volatilities into a dictionary. ![alt text](https://)"
      ]
    },
    {
      "cell_type": "code",
      "metadata": {
        "id": "HaGQh0fMDG6A",
        "colab_type": "code",
        "colab": {
          "base_uri": "https://localhost:8080/",
          "height": 102
        },
        "outputId": "c71593c7-c594-4de9-a71d-95c179a9d8bc"
      },
      "source": [
        "annualized = {}\n",
        "\n",
        "for a in returns:\n",
        "  annualized[a] = [returns[a], stdev[a]]\n",
        "\n",
        "annualized"
      ],
      "execution_count": 55,
      "outputs": [
        {
          "output_type": "execute_result",
          "data": {
            "text/plain": [
              "{'AAPL': [0.1842553635961366, 9.547800625213883],\n",
              " 'FB': [0.18679873063826014, 10.71129703667769],\n",
              " 'GOLD': [0.3503624206669367, 17.487901739209875],\n",
              " 'GOOG': [0.059061236140506956, 41.471118289004295],\n",
              " 'TSLA': [-0.06239703863826063, 25.718167873321903]}"
            ]
          },
          "metadata": {
            "tags": []
          },
          "execution_count": 55
        }
      ]
    },
    {
      "cell_type": "code",
      "metadata": {
        "id": "6NNiEJguvq9v",
        "colab_type": "code",
        "colab": {
          "base_uri": "https://localhost:8080/",
          "height": 102
        },
        "outputId": "02b2f486-540e-4203-a42f-cd567a94bba8"
      },
      "source": [
        "sharpes = {}\n",
        "for b in annualized:\n",
        "  sharpes[b] = (annualized[b][0])/(annualized[b][1])\n",
        "\n",
        "sharpes"
      ],
      "execution_count": 57,
      "outputs": [
        {
          "output_type": "execute_result",
          "data": {
            "text/plain": [
              "{'AAPL': 0.01929819974555753,\n",
              " 'FB': 0.01743941279927377,\n",
              " 'GOLD': 0.020034560228651337,\n",
              " 'GOOG': 0.0014241534488875004,\n",
              " 'TSLA': -0.0024261852144991493}"
            ]
          },
          "metadata": {
            "tags": []
          },
          "execution_count": 57
        }
      ]
    },
    {
      "cell_type": "markdown",
      "metadata": {
        "id": "83z9_exk0BW3",
        "colab_type": "text"
      },
      "source": [
        "Therefore, an investor only interested in getting as much return per risk as possible (sharpe-ratio investor) would prefer GOLD and AAPL. "
      ]
    },
    {
      "cell_type": "markdown",
      "metadata": {
        "id": "iOzbsYnu0Ic5",
        "colab_type": "text"
      },
      "source": [
        "However, there's more to optimizing a portfolio. Let's make some random portfolios to see what I'm talking about. "
      ]
    },
    {
      "cell_type": "markdown",
      "metadata": {
        "id": "ZaM9j1JD1Ljo",
        "colab_type": "text"
      },
      "source": [
        "Let's generate 5 random numbers that sum to 1. "
      ]
    },
    {
      "cell_type": "code",
      "metadata": {
        "id": "paU5MWZN0P09",
        "colab_type": "code",
        "colab": {
          "base_uri": "https://localhost:8080/",
          "height": 102
        },
        "outputId": "9869a0b3-f1cf-4a6b-f45c-de97d0c7d188"
      },
      "source": [
        "import random\n",
        "weights = [0, 0, 0, 0, 0]\n",
        "sum = 0\n",
        "\n",
        "for i in range(5):\n",
        "  weights[i] = random.random()\n",
        "  sum = sum + weights[i]\n",
        "\n",
        "for i in range(5):\n",
        "  weights[i] = weights[i]/sum\n",
        "\n",
        "weights"
      ],
      "execution_count": 64,
      "outputs": [
        {
          "output_type": "execute_result",
          "data": {
            "text/plain": [
              "[0.33641433961218326,\n",
              " 0.34369496083011064,\n",
              " 0.10684205803804155,\n",
              " 0.06569500612756596,\n",
              " 0.14735363539209856]"
            ]
          },
          "metadata": {
            "tags": []
          },
          "execution_count": 64
        }
      ]
    },
    {
      "cell_type": "code",
      "metadata": {
        "id": "7_OQIJqj1R8V",
        "colab_type": "code",
        "colab": {
          "base_uri": "https://localhost:8080/",
          "height": 34
        },
        "outputId": "ed43f117-42f4-4443-e108-e53b5086a8ef"
      },
      "source": [
        "portfolior = 0\n",
        "portfolios = 0\n",
        "\n",
        "returns = []\n",
        "std = []\n",
        "\n",
        "for col in annualized:\n",
        "  returns.append(annualized[col][0])\n",
        "  std.append(annualized[col][1]) \n",
        "\n",
        "for i in range(5):\n",
        "  portfolior = returns[i] * weights[i]\n",
        "  portfolios = np.power(std[i], 2) * weights[i]\n",
        "\n",
        "portfolios = np.sqrt(portfolios)\n",
        "\n",
        "portfolio1 = [portfolior, portfolios]\n",
        "portfolio1"
      ],
      "execution_count": 77,
      "outputs": [
        {
          "output_type": "execute_result",
          "data": {
            "text/plain": [
              "[-0.009194430481048942, 9.872347964364941]"
            ]
          },
          "metadata": {
            "tags": []
          },
          "execution_count": 77
        }
      ]
    },
    {
      "cell_type": "markdown",
      "metadata": {
        "id": "5o9Dr6uG37-n",
        "colab_type": "text"
      },
      "source": [
        "Let's plot this portfolio. "
      ]
    },
    {
      "cell_type": "code",
      "metadata": {
        "id": "plnKVVRb2ZMy",
        "colab_type": "code",
        "colab": {
          "base_uri": "https://localhost:8080/",
          "height": 283
        },
        "outputId": "7d4ffe72-77b5-4c5f-9369-6454401266e7"
      },
      "source": [
        "import matplotlib.pyplot as plt\n",
        "plt.plot(portfolio1[0], portfolio1[1], 'o', color = 'blue')"
      ],
      "execution_count": 98,
      "outputs": [
        {
          "output_type": "execute_result",
          "data": {
            "text/plain": [
              "[<matplotlib.lines.Line2D at 0x7fb15de16b38>]"
            ]
          },
          "metadata": {
            "tags": []
          },
          "execution_count": 98
        },
        {
          "output_type": "display_data",
          "data": {
            "image/png": "[encoded data removed]",
            "text/plain": [
              "<Figure size 432x288 with 1 Axes>"
            ]
          },
          "metadata": {
            "tags": [],
            "needs_background": "light"
          }
        }
      ]
    },
    {
      "cell_type": "markdown",
      "metadata": {
        "id": "T5WsVfOZ4gbU",
        "colab_type": "text"
      },
      "source": [
        "We see we have a negative return with some risk. Let's generate some more random portfolios and see what we get. "
      ]
    },
    {
      "cell_type": "code",
      "metadata": {
        "id": "nUMRX2kh4dX3",
        "colab_type": "code",
        "colab": {
          "base_uri": "https://localhost:8080/",
          "height": 102
        },
        "outputId": "a47022ab-54b4-4f28-823d-3b0905c2b1cb"
      },
      "source": [
        "randoms = []\n",
        "for j in range(100):\n",
        "\n",
        "  weights = [0, 0, 0, 0, 0]\n",
        "  sum = 0\n",
        "\n",
        "  for i in range(5):\n",
        "    weights[i] = random.random()\n",
        "    sum = sum + weights[i]\n",
        "\n",
        "  for i in range(5):\n",
        "    weights[i] = weights[i]/sum\n",
        "\n",
        "  randoms.append(weights)\n",
        "\n",
        "randoms[0]"
      ],
      "execution_count": 86,
      "outputs": [
        {
          "output_type": "execute_result",
          "data": {
            "text/plain": [
              "[0.09064327463982849,\n",
              " 0.2816221247152452,\n",
              " 0.2272130482262949,\n",
              " 0.33831539683937345,\n",
              " 0.062206155579257925]"
            ]
          },
          "metadata": {
            "tags": []
          },
          "execution_count": 86
        }
      ]
    },
    {
      "cell_type": "code",
      "metadata": {
        "id": "oSUamO7h5SDd",
        "colab_type": "code",
        "colab": {
          "base_uri": "https://localhost:8080/",
          "height": 1000
        },
        "outputId": "0c2d2268-0eda-428e-9e4c-beca22ca86a3"
      },
      "source": [
        "x = []\n",
        "y = []\n",
        "\n",
        "for k in range(100):\n",
        "  a = 0\n",
        "  b = 0\n",
        "  for i in range(5):\n",
        "    a = returns[i] * randoms[k][i]\n",
        "    b = np.power(std[i], 2) * randoms[k][i]\n",
        "  x.append(a)\n",
        "  b = np.sqrt(b)\n",
        "  y.append(b)\n",
        "\n",
        "x\n",
        "y"
      ],
      "execution_count": 92,
      "outputs": [
        {
          "output_type": "execute_result",
          "data": {
            "text/plain": [
              "[6.414409881175912,\n",
              " 11.6257159257102,\n",
              " 12.359674073881934,\n",
              " 6.887134219111122,\n",
              " 12.233061116020888,\n",
              " 6.322800124162029,\n",
              " 11.862110078389673,\n",
              " 15.544610981070676,\n",
              " 12.132680031348569,\n",
              " 3.870907441375115,\n",
              " 12.83192742107995,\n",
              " 2.372727062130453,\n",
              " 9.968520458865928,\n",
              " 10.258123846456751,\n",
              " 8.370724964593151,\n",
              " 10.604666239260789,\n",
              " 6.6670015815230705,\n",
              " 13.320948778123256,\n",
              " 10.377534661404553,\n",
              " 11.203259237470274,\n",
              " 9.211104332727954,\n",
              " 12.922814146578023,\n",
              " 14.334871368580233,\n",
              " 15.563092884171772,\n",
              " 14.11493003199611,\n",
              " 16.011901135473934,\n",
              " 9.91490085556425,\n",
              " 11.483243922870534,\n",
              " 13.314770513071077,\n",
              " 10.935264902804043,\n",
              " 15.023056564660902,\n",
              " 14.46139125812235,\n",
              " 8.15002463508153,\n",
              " 7.369498902562006,\n",
              " 11.540965560298886,\n",
              " 11.307203046475006,\n",
              " 11.916948812781989,\n",
              " 13.668227988824228,\n",
              " 11.807432650768337,\n",
              " 14.328598029710841,\n",
              " 14.616511739128203,\n",
              " 10.513663507329543,\n",
              " 6.515633161610734,\n",
              " 10.840090087455273,\n",
              " 7.020010581213492,\n",
              " 10.874320500505709,\n",
              " 4.165597938769631,\n",
              " 0.7261203437399378,\n",
              " 11.820676021562178,\n",
              " 13.438075701832663,\n",
              " 5.80604540333973,\n",
              " 4.250203398316474,\n",
              " 11.446914702350929,\n",
              " 8.082136322136606,\n",
              " 11.859731036980678,\n",
              " 12.880041244013851,\n",
              " 9.108923149945486,\n",
              " 9.6024107140487,\n",
              " 6.1356093824722455,\n",
              " 4.393638837558405,\n",
              " 14.69259291074194,\n",
              " 6.279553055971974,\n",
              " 14.909359720432676,\n",
              " 12.09294513979339,\n",
              " 7.577277385778985,\n",
              " 12.093291174541575,\n",
              " 13.102221049990488,\n",
              " 12.834889790745889,\n",
              " 13.552148956052484,\n",
              " 13.386825848068986,\n",
              " 5.428100261094061,\n",
              " 14.889044063286278,\n",
              " 12.246604537453225,\n",
              " 13.837534413910387,\n",
              " 8.966713560539796,\n",
              " 7.617540603720955,\n",
              " 14.919744805011012,\n",
              " 6.963460340195502,\n",
              " 13.98158869224682,\n",
              " 14.201383229307492,\n",
              " 12.647697917493552,\n",
              " 9.098586309536188,\n",
              " 7.106891514431415,\n",
              " 13.220155301732714,\n",
              " 13.901406882949816,\n",
              " 10.330861562429531,\n",
              " 8.616774642424035,\n",
              " 5.429470310083455,\n",
              " 15.109840285991163,\n",
              " 12.548939329759804,\n",
              " 17.36848941286043,\n",
              " 12.36831992147892,\n",
              " 13.580011410991526,\n",
              " 8.775996126770023,\n",
              " 14.229918933682887,\n",
              " 15.357474909606024,\n",
              " 10.260166506631641,\n",
              " 10.089381203409653,\n",
              " 12.421195624600585,\n",
              " 9.268991954272629]"
            ]
          },
          "metadata": {
            "tags": []
          },
          "execution_count": 92
        }
      ]
    },
    {
      "cell_type": "code",
      "metadata": {
        "id": "8YIKLk7j8Yhp",
        "colab_type": "code",
        "colab": {}
      },
      "source": [
        "for i in range(len(x)): \n",
        "  x[i] = -x[i]"
      ],
      "execution_count": null,
      "outputs": []
    },
    {
      "cell_type": "code",
      "metadata": {
        "id": "chqwF_tP6g8N",
        "colab_type": "code",
        "colab": {
          "base_uri": "https://localhost:8080/",
          "height": 312
        },
        "outputId": "2df0e369-3ecc-45b9-9af6-e6b831b1e0c3"
      },
      "source": [
        "plt.scatter(x, y, color = 'blue')\n",
        "plt.xlabel('returns')\n",
        "plt.ylabel('volatility')\n",
        "plt.title('random portfolios')"
      ],
      "execution_count": 104,
      "outputs": [
        {
          "output_type": "execute_result",
          "data": {
            "text/plain": [
              "Text(0.5, 1.0, 'random portfolios')"
            ]
          },
          "metadata": {
            "tags": []
          },
          "execution_count": 104
        },
        {
          "output_type": "display_data",
          "data": {
            "image/png": "[encoded data removed]",
            "text/plain": [
              "<Figure size 432x288 with 1 Axes>"
            ]
          },
          "metadata": {
            "tags": [],
            "needs_background": "light"
          }
        }
      ]
    },
    {
      "cell_type": "markdown",
      "metadata": {
        "id": "KAMYulmv7b-A",
        "colab_type": "text"
      },
      "source": [
        "It appears these portfolios on the outside of the line are all efficient, per our algorithm. "
      ]
    }
  ]
}